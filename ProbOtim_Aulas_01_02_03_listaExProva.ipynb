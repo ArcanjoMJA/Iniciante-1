{
  "nbformat": 4,
  "nbformat_minor": 0,
  "metadata": {
    "colab": {
      "provenance": [],
      "include_colab_link": true
    },
    "kernelspec": {
      "name": "python3",
      "display_name": "Python 3"
    },
    "language_info": {
      "name": "python"
    }
  },
  "cells": [
    {
      "cell_type": "markdown",
      "metadata": {
        "id": "view-in-github",
        "colab_type": "text"
      },
      "source": [
        "<a href=\"https://colab.research.google.com/github/ArcanjoMJA/Iniciante-1/blob/main/ProbOtim_Aulas_01_02_03_listaExProva.ipynb\" target=\"_parent\"><img src=\"https://colab.research.google.com/assets/colab-badge.svg\" alt=\"Open In Colab\"/></a>"
      ]
    },
    {
      "cell_type": "code",
      "source": [
        "# Ex 1\n",
        "\n",
        "import numpy as np\n",
        "from scipy.optimize import linprog\n",
        "obj = [-200,-90] #These are coefficients of our objective function\n",
        "lhs = [[10,2],[10,5]] #LHS Inequalities\n",
        "rhs = [200,260]\n",
        "#lhs_eq = [[x1,x2],[y1,y2]] This will be required if there is an equality constraint not required here\n",
        "#rhs_eq = [[a1,a2]] This will be required if there is an equality constraint RHS value of the same\n",
        "bnd = [(0,float('inf')),(0,float('inf'))] #This is boundary of our decision variables used because positive#optimization = linprog(c = obj,\n",
        "#                       A_ub = lhs,\n",
        "#                      b_ub = rhs,\n",
        "#                      bounds = bnd,\n",
        "#                      A_eq = lhs_eq,\n",
        "#                      b_eq = rhs_eq\n",
        "#                      method = 'simplex')\n",
        "\n",
        "#If we had equality constraints we would've used the A_eq and b_eq variables.\n",
        "\n",
        "optimization = linprog(c = obj, A_ub = lhs, b_ub = rhs, bounds = bnd, method = 'simplex')\n",
        "\n",
        "print(optimization)\n",
        "\n",
        "print(optimization.x)"
      ],
      "metadata": {
        "colab": {
          "base_uri": "https://localhost:8080/"
        },
        "id": "YgLIPJ_zLrd5",
        "outputId": "0ab99944-88c2-403d-f736-4458a108ff62"
      },
      "execution_count": null,
      "outputs": [
        {
          "output_type": "stream",
          "name": "stdout",
          "text": [
            " message: Optimization terminated successfully.\n",
            " success: True\n",
            "  status: 0\n",
            "     fun: -5000.0\n",
            "       x: [ 1.600e+01  2.000e+01]\n",
            "     nit: 2\n",
            "[16. 20.]\n"
          ]
        },
        {
          "output_type": "stream",
          "name": "stderr",
          "text": [
            "<ipython-input-7-ece69aade510>:20: DeprecationWarning: `method='simplex'` is deprecated and will be removed in SciPy 1.11.0. Please use one of the HiGHS solvers (e.g. `method='highs'`) in new code.\n",
            "  optimization = linprog(c = obj, A_ub = lhs, b_ub = rhs, bounds = bnd, method = 'simplex')\n"
          ]
        }
      ]
    },
    {
      "cell_type": "code",
      "source": [
        "# Ex 2\n",
        "\n",
        "import numpy as np\n",
        "from scipy.optimize import linprog\n",
        "obj = [-(300000*0.05-5000),-(500000*0.05-2000)] #These are coefficients of our objective function\n",
        "lhs = [[0,2000],[5000,0],[5000,2000]] #LHS Inequalities\n",
        "rhs = [50000,70000,100000]\n",
        "#lhs_eq = [[x1,x2],[y1,y2]] This will be required if there is an equality constraint not required here\n",
        "#rhs_eq = [[a1,a2]] This will be required if there is an equality constraint RHS value of the same\n",
        "bnd = [(0,float('inf')),(0,float('inf'))] #This is boundary of our decision variables used because positive#optimization = linprog(c = obj,\n",
        "#                       A_ub = lhs,\n",
        "#                      b_ub = rhs,\n",
        "#                      bounds = bnd,\n",
        "#                      A_eq = lhs_eq,\n",
        "#                      b_eq = rhs_eq\n",
        "#                      method = 'simplex')\n",
        "\n",
        "#If we had equality constraints we would've used the A_eq and b_eq variables.\n",
        "\n",
        "optimization = linprog(c = obj, A_ub = lhs, b_ub = rhs, bounds = bnd, method = 'simplex')\n",
        "\n",
        "\n",
        "print(optimization)\n",
        "\n",
        "print(optimization.x)"
      ],
      "metadata": {
        "colab": {
          "base_uri": "https://localhost:8080/"
        },
        "id": "V2lccfCkMuDB",
        "outputId": "4688cd90-aa99-4d64-bb4f-1e54862a78ac"
      },
      "execution_count": null,
      "outputs": [
        {
          "output_type": "stream",
          "name": "stdout",
          "text": [
            " message: Optimization terminated successfully.\n",
            " success: True\n",
            "  status: 0\n",
            "     fun: -675000.0\n",
            "       x: [ 1.000e+01  2.500e+01]\n",
            "     nit: 3\n",
            "[10. 25.]\n"
          ]
        },
        {
          "output_type": "stream",
          "name": "stderr",
          "text": [
            "<ipython-input-8-6d5697a5b537>:20: DeprecationWarning: `method='simplex'` is deprecated and will be removed in SciPy 1.11.0. Please use one of the HiGHS solvers (e.g. `method='highs'`) in new code.\n",
            "  optimization = linprog(c = obj, A_ub = lhs, b_ub = rhs, bounds = bnd, method = 'simplex')\n"
          ]
        }
      ]
    },
    {
      "cell_type": "code",
      "source": [
        "#Ex. 1 Aula 2\n",
        "\n",
        "import numpy as np\n",
        "from scipy.optimize import linprog\n",
        "obj = [-180,-300] #These are coefficients of our objective function\n",
        "lhs = [[1,0],[0,1],[1,2]] #LHS Inequalities\n",
        "rhs = [60,50,120]\n",
        "#lhs_eq = [[x1,x2],[y1,y2]] This will be required if there is an equality constraint not required here\n",
        "#rhs_eq = [[a1,a2]] This will be required if there is an equality constraint RHS value of the same\n",
        "bnd = [(0,float('inf')),(0,float('inf'))] #This is boundary of our decision variables used because positive#optimization = linprog(c = obj,\n",
        "#                       A_ub = lhs,\n",
        "#                      b_ub = rhs,\n",
        "#                      bounds = bnd,\n",
        "#                      A_eq = lhs_eq,\n",
        "#                      b_eq = rhs_eq\n",
        "#                      method = 'simplex')\n",
        "\n",
        "#If we had equality constraints we would've used the A_eq and b_eq variables.\n",
        "\n",
        "optimization = linprog(c = obj, A_ub = lhs, b_ub = rhs, bounds = bnd, method = 'simplex')\n",
        "\n",
        "\n",
        "print(optimization)\n",
        "\n",
        "print(optimization.x)"
      ],
      "metadata": {
        "colab": {
          "base_uri": "https://localhost:8080/"
        },
        "id": "jfO4o1ekudt4",
        "outputId": "4f71374c-d886-4ec0-af29-32fb402de44c"
      },
      "execution_count": null,
      "outputs": [
        {
          "output_type": "stream",
          "name": "stdout",
          "text": [
            " message: Optimization terminated successfully.\n",
            " success: True\n",
            "  status: 0\n",
            "     fun: -19800.0\n",
            "       x: [ 6.000e+01  3.000e+01]\n",
            "     nit: 3\n",
            "[60. 30.]\n"
          ]
        },
        {
          "output_type": "stream",
          "name": "stderr",
          "text": [
            "<ipython-input-9-df331e7819d4>:20: DeprecationWarning: `method='simplex'` is deprecated and will be removed in SciPy 1.11.0. Please use one of the HiGHS solvers (e.g. `method='highs'`) in new code.\n",
            "  optimization = linprog(c = obj, A_ub = lhs, b_ub = rhs, bounds = bnd, method = 'simplex')\n"
          ]
        }
      ]
    },
    {
      "cell_type": "code",
      "source": [
        "#Ex. 3 Aula 2\n",
        "#Problema de mistura de compostos\n",
        "\n",
        "import numpy as np\n",
        "from scipy.optimize import linprog\n",
        "obj = [0.25, 0.30, 0.32, 0.15] #These are coefficients of our objective function\n",
        "lhs = [[-0.30, -0.05, -0.20, -0.10],[-0.10, -0.30, -0.15, -0.10],[-0.20, -0.20, -0.20, -0.30]] #LHS Inequalities\n",
        "rhs = [-1600, -1200, -1200]\n",
        "lhs_eq = [[1, 1, 1, 1]] #This will be required if there is an equality constraint not required here\n",
        "rhs_eq = [8000] #This will be required if there is an equality constraint RHS value of the same\n",
        "bnd = [(0,float('inf')),(0,float('inf')),(0,float('inf')),(0,float('inf'))] #This is boundary of our decision variables used because positive#optimization = linprog(c = obj,\n",
        "#                       A_ub = lhs,\n",
        "#                      b_ub = rhs,\n",
        "#                      bounds = bnd,\n",
        "#                      A_eq = lhs_eq,\n",
        "#                      b_eq = rhs_eq\n",
        "#                      method = 'simplex')\n",
        "\n",
        "#If we had equality constraints we would've used the A_eq and b_eq variables.\n",
        "\n",
        "optimization = linprog(c = obj, A_ub = lhs, b_ub = rhs, A_eq = lhs_eq, b_eq = rhs_eq, bounds = bnd, method = 'simplex')\n",
        "\n",
        "print(optimization)\n",
        "\n",
        "print(optimization.x)"
      ],
      "metadata": {
        "colab": {
          "base_uri": "https://localhost:8080/"
        },
        "id": "ehfRVT-0AwGy",
        "outputId": "9c718f10-114e-4cfa-c251-197a91caf6d4"
      },
      "execution_count": null,
      "outputs": [
        {
          "output_type": "stream",
          "name": "stdout",
          "text": [
            " message: Optimization terminated successfully.\n",
            " success: True\n",
            "  status: 0\n",
            "     fun: 1950.0\n",
            "       x: [ 4.500e+03  2.000e+03  0.000e+00  1.500e+03]\n",
            "     nit: 5\n",
            "[4500. 2000.    0. 1500.]\n"
          ]
        },
        {
          "output_type": "stream",
          "name": "stderr",
          "text": [
            "<ipython-input-10-7e4e5d499704>:21: DeprecationWarning: `method='simplex'` is deprecated and will be removed in SciPy 1.11.0. Please use one of the HiGHS solvers (e.g. `method='highs'`) in new code.\n",
            "  optimization = linprog(c = obj, A_ub = lhs, b_ub = rhs, A_eq = lhs_eq, b_eq = rhs_eq, bounds = bnd, method = 'simplex')\n"
          ]
        }
      ]
    },
    {
      "cell_type": "code",
      "source": [
        "#Ex. 4 Aula 2\n",
        "#Problema de logística de transporte\n",
        "\n",
        "import numpy as np\n",
        "from scipy.optimize import linprog\n",
        "obj = [21, 50, 40, 35, 30, 22, 55, 20, 25] #These are coefficients of our objective function\n",
        "lhs = [[1, 0, 0, 1, 0, 0, 1, 0, 0],\n",
        "       [0, 1, 0, 0, 1, 0, 0, 1, 0],\n",
        "       [0, 0, 1, 0, 0, 1, 0, 0, 1]] #LHS Inequalities\n",
        "rhs = [200000, 550000, 225000]\n",
        "lhs_eq = [[1, 1, 1, 0, 0, 0, 0, 0, 0],\n",
        "          [0, 0, 0, 1, 1, 1, 0, 0, 0],\n",
        "          [0, 0, 0, 0, 0, 0, 1, 1, 1]] #This will be required if there is an equality constraint not required here\n",
        "rhs_eq = [275000, 400000, 300000] #This will be required if there is an equality constraint RHS value of the same\n",
        "bnd = [ (0,float('inf')),(0,float('inf')),(0,float('inf')),\n",
        "        (0,float('inf')),(0,float('inf')),(0,float('inf')),\n",
        "        (0,float('inf')),(0,float('inf')),(0,float('inf'))] #This is boundary of our decision variables used because positive#optimization = linprog(c = obj,\n",
        "#                       A_ub = lhs,\n",
        "#                      b_ub = rhs,\n",
        "#                      bounds = bnd,\n",
        "#                      A_eq = lhs_eq,\n",
        "#                      b_eq = rhs_eq\n",
        "#                      method = 'simplex')\n",
        "\n",
        "#If we had equality constraints we would've used the A_eq and b_eq variables.\n",
        "\n",
        "optimization = linprog(c = obj, A_ub = lhs, b_ub = rhs, A_eq = lhs_eq, b_eq = rhs_eq, bounds = bnd, method = 'simplex')\n",
        "\n",
        "print(optimization)\n",
        "\n",
        "print(optimization.x)"
      ],
      "metadata": {
        "colab": {
          "base_uri": "https://localhost:8080/"
        },
        "id": "pzdQP3BuPT5L",
        "outputId": "a0b6b9b0-e1e1-4be9-cacb-79fc2eabaa7d"
      },
      "execution_count": null,
      "outputs": [
        {
          "output_type": "stream",
          "name": "stdout",
          "text": [
            " message: Optimization terminated successfully.\n",
            " success: True\n",
            "  status: 0\n",
            "     fun: 24000000.0\n",
            "       x: [ 2.000e+05  0.000e+00  7.500e+04  0.000e+00  2.500e+05\n",
            "            1.500e+05  0.000e+00  3.000e+05  0.000e+00]\n",
            "     nit: 11\n",
            "[200000.      0.  75000.      0. 250000. 150000.      0. 300000.      0.]\n"
          ]
        },
        {
          "output_type": "stream",
          "name": "stderr",
          "text": [
            "<ipython-input-12-d976e44a9e0a>:27: DeprecationWarning: `method='simplex'` is deprecated and will be removed in SciPy 1.11.0. Please use one of the HiGHS solvers (e.g. `method='highs'`) in new code.\n",
            "  optimization = linprog(c = obj, A_ub = lhs, b_ub = rhs, A_eq = lhs_eq, b_eq = rhs_eq, bounds = bnd, method = 'simplex')\n"
          ]
        }
      ]
    },
    {
      "cell_type": "code",
      "source": [
        "#Ex. 5 Aula 2\n",
        "#Problema de produção multiperíodo\n",
        "\n",
        "#NÃO FUNCIONOU!!\n",
        "\n",
        "\n",
        "import numpy as np\n",
        "from scipy.optimize import minimize\n",
        "\n",
        "# Define the objective function to be minimized\n",
        "def objective_function(x):\n",
        "\n",
        "    estoque = estoqueInicial\n",
        "    estoqueInicialDoMes = 0\n",
        "    custoProducao = 0.0\n",
        "    custoTransporte = 0.0\n",
        "\n",
        "    for i in range(len(x)):\n",
        "      estoqueInicialDoMes = estoque\n",
        "      #atualizando o estoque do mês i\n",
        "      estoque = estoque + x[i] - demanda[i]\n",
        "      #Custo total do transporte ($transp - média dos estoques inicial e final do mês)\n",
        "      custoTransporte = custoTransporte + custoTransporteMensal[i] * (estoque + estoqueInicialDoMes) / 2.0\n",
        "      custoProducao = custoProducao + custoProducaoMensal[i] * x[i]\n",
        "\n",
        "    return (custoProducao + custoTransporte)\n",
        "\n",
        "\n",
        "\n",
        "# Define SaldoProducao\n",
        "def estoqueMes(mes, x):\n",
        "    est = estoqueInicial\n",
        "    for i in range(0, mes+1):\n",
        "      est += x[i] - demanda[i]\n",
        "    return ( est )\n",
        "\n",
        "\n",
        "# Define the constraints\n",
        "def cons_estSegurancaM0(x):\n",
        "    return ( estoqueMes(0, x) - estoqueSeg[0])\n",
        "\n",
        "def cons_estSegurancaM1(x):\n",
        "    return ( estoqueMes(1, x) - estoqueSeg[1] )\n",
        "\n",
        "def cons_estSegurancaM2(x):\n",
        "    return ( estoqueMes(2, x) - estoqueSeg[2] )\n",
        "\n",
        "def cons_estSegurancaM3(x):\n",
        "    return ( estoqueMes(3, x) - estoqueSeg[3] )\n",
        "\n",
        "def cons_estMaximoM0(x):\n",
        "    return ( estoqueMax[0] - estoqueMes(0, x) )\n",
        "\n",
        "def cons_estMaximoM1(x):\n",
        "    return ( estoqueMax[1] - estoqueMes(1, x) )\n",
        "\n",
        "def cons_estMaximoM2(x):\n",
        "    return ( estoqueMax[2] - estoqueMes(2, x) )\n",
        "\n",
        "def cons_estMaximoM3(x):\n",
        "    return ( estoqueMax[3] - estoqueMes(3, x) )\n",
        "\n",
        "\n",
        "# Define the constraint bounds\n",
        "constraints = [{'type': 'ineq', 'fun': cons_estSegurancaM0},\n",
        "               {'type': 'ineq', 'fun': cons_estSegurancaM1},\n",
        "               {'type': 'ineq', 'fun': cons_estSegurancaM2},\n",
        "               {'type': 'ineq', 'fun': cons_estSegurancaM3},\n",
        "               {'type': 'ineq', 'fun': cons_estMaximoM0},\n",
        "               {'type': 'ineq', 'fun': cons_estMaximoM1},\n",
        "               {'type': 'ineq', 'fun': cons_estMaximoM2},\n",
        "               {'type': 'ineq', 'fun': cons_estMaximoM3},\n",
        "               {'type': 'eq', 'fun': lambda x: x[0] - np.floor(x[0])},\n",
        "               {'type': 'eq', 'fun': lambda x: x[1] - np.floor(x[1])},\n",
        "               {'type': 'eq', 'fun': lambda x: x[2] - np.floor(x[2])},\n",
        "               {'type': 'eq', 'fun': lambda x: x[3] - np.floor(x[3])}]\n",
        "\n",
        "\n",
        "# Define the initial guess and bounds for the variables\n",
        "\n",
        "estoqueInicial = 120\n",
        "desejo = [400, 400, 400, 400]\n",
        "capacidade = [500, 520, 450, 550]\n",
        "\n",
        "estoqueSeg = [50, 50, 50, 50]\n",
        "estoqueMax = [140, 140, 140, 140]\n",
        "\n",
        "demanda = [420, 580, 310, 540]\n",
        "\n",
        "custoProducaoMensal  = [49.0, 45.0, 46.0, 47.0]\n",
        "custoTransporteMensal  = [1.5, 1.5, 1.5, 1.5]\n",
        "\n",
        "p0 = [400, 400, 400, 400]\n",
        "pOpt = [410, 520, 400, 450]\n",
        "\n",
        "#bounds = [(400, 500), (400, 520), (400, 450), (400, 550)]\n",
        "bounds=[]\n",
        "for i in range(4):\n",
        "  bounds.append((desejo[i], capacidade[i]))\n",
        "print(bounds)\n",
        "\n",
        "print (estoqueMes(0, pOpt))\n",
        "print (estoqueMes(1, pOpt))\n",
        "print (estoqueMes(2, pOpt))\n",
        "print (estoqueMes(3, pOpt))\n",
        "print (objective_function(pOpt))\n",
        "print(\"------\")\n",
        "print (cons_estSegurancaM0(pOpt))\n",
        "print (cons_estSegurancaM1(pOpt))\n",
        "print (cons_estSegurancaM2(pOpt))\n",
        "print (cons_estSegurancaM3(pOpt))\n",
        "print (cons_estMaximoM0(pOpt))\n",
        "print (cons_estMaximoM1(pOpt))\n",
        "print (cons_estMaximoM2(pOpt))\n",
        "print (cons_estMaximoM3(pOpt))\n",
        "\n",
        "print(\"------\")\n",
        "print (cons_estSegurancaM2(p0))\n",
        "print (cons_estMaximoM2(p0))\n",
        "\n",
        "# Minimize the objective function subject to the constraints\n",
        "result = minimize(objective_function, p0, method='SLSQP', bounds=bounds, constraints=constraints)\n",
        "\n",
        "# Print the results\n",
        "print(f\"Minimum value: {result.fun:.2f}\")\n",
        "print(f\"Optimized solution: {result.x}\")\n",
        "\n",
        "print(result)"
      ],
      "metadata": {
        "id": "Eptn2YN2wB04",
        "colab": {
          "base_uri": "https://localhost:8080/"
        },
        "outputId": "1baeb00e-2a7b-4630-9c09-66d91427e2a0"
      },
      "execution_count": null,
      "outputs": [
        {
          "output_type": "stream",
          "name": "stdout",
          "text": [
            "[(400, 500), (400, 520), (400, 450), (400, 550)]\n",
            "110\n",
            "50\n",
            "140\n",
            "50\n",
            "83617.5\n",
            "------\n",
            "60\n",
            "0\n",
            "90\n",
            "0\n",
            "30\n",
            "90\n",
            "0\n",
            "90\n",
            "------\n",
            "-40\n",
            "130\n",
            "Minimum value: 74837.50\n",
            "Optimized solution: [400. 400. 400. 400.]\n",
            " message: Positive directional derivative for linesearch\n",
            " success: False\n",
            "  status: 8\n",
            "     fun: 74837.5\n",
            "       x: [ 4.000e+02  4.000e+02  4.000e+02  4.000e+02]\n",
            "     nit: 5\n",
            "     jac: [ 5.425e+01  4.875e+01  4.825e+01  4.775e+01]\n",
            "    nfev: 5\n",
            "    njev: 1\n"
          ]
        }
      ]
    },
    {
      "cell_type": "code",
      "source": [
        "#BIBLIOTECAS DESTE BLOCO PRECISAM SER INSTALADAS PARA A EXECUÇÂO DO PRÓXIMO\n",
        "\n",
        "#%pip install ortools\n",
        "!python --version\n",
        "\n",
        "#!pip install cbc\n",
        "!pip install --user --upgrade pip setuptools wheel six ortools\n",
        "\n"
      ],
      "metadata": {
        "colab": {
          "base_uri": "https://localhost:8080/",
          "height": 827
        },
        "id": "-Hz36CUNIgZn",
        "outputId": "e8e4fb47-ae5a-477b-fdea-78eacddb636b"
      },
      "execution_count": null,
      "outputs": [
        {
          "output_type": "stream",
          "name": "stdout",
          "text": [
            "Python 3.10.12\n",
            "Requirement already satisfied: pip in /usr/local/lib/python3.10/dist-packages (23.1.2)\n",
            "Collecting pip\n",
            "  Downloading pip-24.0-py3-none-any.whl (2.1 MB)\n",
            "\u001b[2K     \u001b[90m━━━━━━━━━━━━━━━━━━━━━━━━━━━━━━━━━━━━━━━━\u001b[0m \u001b[32m2.1/2.1 MB\u001b[0m \u001b[31m10.4 MB/s\u001b[0m eta \u001b[36m0:00:00\u001b[0m\n",
            "\u001b[?25hRequirement already satisfied: setuptools in /usr/local/lib/python3.10/dist-packages (67.7.2)\n",
            "Collecting setuptools\n",
            "  Downloading setuptools-69.1.1-py3-none-any.whl (819 kB)\n",
            "\u001b[2K     \u001b[90m━━━━━━━━━━━━━━━━━━━━━━━━━━━━━━━━━━━━━━━━\u001b[0m \u001b[32m819.3/819.3 kB\u001b[0m \u001b[31m18.8 MB/s\u001b[0m eta \u001b[36m0:00:00\u001b[0m\n",
            "\u001b[?25hRequirement already satisfied: wheel in /usr/local/lib/python3.10/dist-packages (0.42.0)\n",
            "Requirement already satisfied: six in /usr/local/lib/python3.10/dist-packages (1.16.0)\n",
            "Collecting ortools\n",
            "  Downloading ortools-9.8.3296-cp310-cp310-manylinux_2_17_x86_64.manylinux2014_x86_64.whl (22.9 MB)\n",
            "\u001b[2K     \u001b[90m━━━━━━━━━━━━━━━━━━━━━━━━━━━━━━━━━━━━━━━━\u001b[0m \u001b[32m22.9/22.9 MB\u001b[0m \u001b[31m32.7 MB/s\u001b[0m eta \u001b[36m0:00:00\u001b[0m\n",
            "\u001b[?25hCollecting absl-py>=2.0.0 (from ortools)\n",
            "  Downloading absl_py-2.1.0-py3-none-any.whl (133 kB)\n",
            "\u001b[2K     \u001b[90m━━━━━━━━━━━━━━━━━━━━━━━━━━━━━━━━━━━━━━━━\u001b[0m \u001b[32m133.7/133.7 kB\u001b[0m \u001b[31m14.6 MB/s\u001b[0m eta \u001b[36m0:00:00\u001b[0m\n",
            "\u001b[?25hRequirement already satisfied: numpy>=1.13.3 in /usr/local/lib/python3.10/dist-packages (from ortools) (1.25.2)\n",
            "Collecting pandas>=2.0.0 (from ortools)\n",
            "  Downloading pandas-2.2.1-cp310-cp310-manylinux_2_17_x86_64.manylinux2014_x86_64.whl (13.0 MB)\n",
            "\u001b[2K     \u001b[90m━━━━━━━━━━━━━━━━━━━━━━━━━━━━━━━━━━━━━━━━\u001b[0m \u001b[32m13.0/13.0 MB\u001b[0m \u001b[31m39.1 MB/s\u001b[0m eta \u001b[36m0:00:00\u001b[0m\n",
            "\u001b[?25hCollecting protobuf>=4.25.0 (from ortools)\n",
            "  Downloading protobuf-4.25.3-cp37-abi3-manylinux2014_x86_64.whl (294 kB)\n",
            "\u001b[2K     \u001b[90m━━━━━━━━━━━━━━━━━━━━━━━━━━━━━━━━━━━━━━━━\u001b[0m \u001b[32m294.6/294.6 kB\u001b[0m \u001b[31m24.8 MB/s\u001b[0m eta \u001b[36m0:00:00\u001b[0m\n",
            "\u001b[?25hRequirement already satisfied: python-dateutil>=2.8.2 in /usr/local/lib/python3.10/dist-packages (from pandas>=2.0.0->ortools) (2.8.2)\n",
            "Requirement already satisfied: pytz>=2020.1 in /usr/local/lib/python3.10/dist-packages (from pandas>=2.0.0->ortools) (2023.4)\n",
            "Collecting tzdata>=2022.7 (from pandas>=2.0.0->ortools)\n",
            "  Downloading tzdata-2024.1-py2.py3-none-any.whl (345 kB)\n",
            "\u001b[2K     \u001b[90m━━━━━━━━━━━━━━━━━━━━━━━━━━━━━━━━━━━━━━━━\u001b[0m \u001b[32m345.4/345.4 kB\u001b[0m \u001b[31m26.9 MB/s\u001b[0m eta \u001b[36m0:00:00\u001b[0m\n",
            "\u001b[?25hInstalling collected packages: tzdata, setuptools, protobuf, pip, absl-py, pandas, ortools\n",
            "\u001b[33m  WARNING: The scripts pip, pip3 and pip3.10 are installed in '/root/.local/bin' which is not on PATH.\n",
            "  Consider adding this directory to PATH or, if you prefer to suppress this warning, use --no-warn-script-location.\u001b[0m\u001b[33m\n",
            "\u001b[0m\u001b[31mERROR: pip's dependency resolver does not currently take into account all the packages that are installed. This behaviour is the source of the following dependency conflicts.\n",
            "ipython 7.34.0 requires jedi>=0.16, which is not installed.\n",
            "bigframes 0.21.0 requires pandas<2.1.4,>=1.5.0, but you have pandas 2.2.1 which is incompatible.\n",
            "google-colab 1.0.0 requires pandas==1.5.3, but you have pandas 2.2.1 which is incompatible.\n",
            "tensorflow-metadata 1.14.0 requires absl-py<2.0.0,>=0.9, but you have absl-py 2.1.0 which is incompatible.\n",
            "tensorflow-metadata 1.14.0 requires protobuf<4.21,>=3.20.3, but you have protobuf 4.25.3 which is incompatible.\u001b[0m\u001b[31m\n",
            "\u001b[0mSuccessfully installed absl-py-2.1.0 ortools-9.8.3296 pandas-2.2.1 pip-24.0 protobuf-4.25.3 setuptools-69.1.1 tzdata-2024.1\n"
          ]
        },
        {
          "output_type": "display_data",
          "data": {
            "application/vnd.colab-display-data+json": {
              "pip_warning": {
                "packages": [
                  "_distutils_hack",
                  "pkg_resources",
                  "setuptools"
                ]
              }
            }
          },
          "metadata": {}
        }
      ]
    },
    {
      "cell_type": "code",
      "source": [
        "#Ex. 5 Aula 2\n",
        "#Problema de produção multiperíodo\n",
        "\n",
        "#ESTE FUNCIONOU\n",
        "#BIBLIOTECAS DO CÓDIGO ANTERIOR DEVEM SER INSTALADAS ANTES!\n",
        "\n",
        "\n",
        "from ortools.linear_solver import pywraplp\n",
        "\n",
        "# Define the objective function to be minimized\n",
        "# Para a produçõe dos 4 meses do parâmetro, a função devolve o custo total\n",
        "def custoMensal(x):\n",
        "    estoque = estoqueInicial\n",
        "    estoqueInicialDoMes = 0\n",
        "    custoProducao = 0.0\n",
        "    custoTransporte = 0.0\n",
        "\n",
        "    for i in range(len(x)):\n",
        "      estoqueInicialDoMes = estoque\n",
        "      #atualizando o estoque do mês i\n",
        "      estoque = estoque + x[i] - demanda[i]\n",
        "      #Custo total do transporte ($transp - média dos estoques inicial e final do mês)\n",
        "      custoTransporte = custoTransporte + custoTransporteMensal[i] * (estoque + estoqueInicialDoMes) / 2.0\n",
        "      custoProducao = custoProducao + custoProducaoMensal[i] * x[i]\n",
        "    return (custoProducao + custoTransporte)\n",
        "\n",
        "\n",
        "# Define estoqueMês\n",
        "# Ao informar o mês e uma sequencia de produção, a função retorna o saldo\n",
        "#    do estoque ao final do mÊs específico\n",
        "def estoqueMes(mes, x):\n",
        "    est = estoqueInicial\n",
        "    for i in range(0, mes+1):\n",
        "      est += x[i] - demanda[i]\n",
        "    return ( est )\n",
        "\n",
        "\n",
        "# Define the initial guess and bounds for the variables\n",
        "\n",
        "estoqueInicial = 120\n",
        "desejo = [400, 400, 400, 400]\n",
        "capacidade = [500, 520, 450, 550]\n",
        "\n",
        "estoqueSeg = [50, 50, 50, 50]\n",
        "estoqueMax = [140, 140, 140, 140]\n",
        "\n",
        "demanda = [420, 580, 310, 540]\n",
        "\n",
        "custoProducaoMensal  = [49.0, 45.0, 46.0, 47.0]\n",
        "custoTransporteMensal  = [1.5, 1.5, 1.5, 1.5]\n",
        "\n",
        "\n",
        "# Create the linear solver using the CBC backend\n",
        "solver = pywraplp.Solver('Problema de produção multiperíodo', pywraplp.Solver.CBC_MIXED_INTEGER_PROGRAMMING)\n",
        "\n",
        "# 1. Create the variables we want to optimize\n",
        "m0 = solver.IntVar(0, solver.infinity(), 'm0')\n",
        "m1 = solver.IntVar(0, solver.infinity(), 'm1')\n",
        "m2 = solver.IntVar(0, solver.infinity(), 'm2')\n",
        "m3 = solver.IntVar(0, solver.infinity(), 'm3')\n",
        "\n",
        "# 2. Add constraints for each resource\n",
        "solver.Add(estoqueMes(0, [m0, m1, m2, m3]) >= estoqueSeg[0])\n",
        "solver.Add(estoqueMes(1, [m0, m1, m2, m3]) >= estoqueSeg[1])\n",
        "solver.Add(estoqueMes(2, [m0, m1, m2, m3]) >= estoqueSeg[2])\n",
        "solver.Add(estoqueMes(3, [m0, m1, m2, m3]) >= estoqueSeg[3])\n",
        "\n",
        "solver.Add(estoqueMes(0, [m0, m1, m2, m3]) <= estoqueMax[0])\n",
        "solver.Add(estoqueMes(1, [m0, m1, m2, m3]) <= estoqueMax[1])\n",
        "solver.Add(estoqueMes(2, [m0, m1, m2, m3]) <= estoqueMax[2])\n",
        "solver.Add(estoqueMes(3, [m0, m1, m2, m3]) <= estoqueMax[3])\n",
        "\n",
        "solver.Add(m0 >= desejo[0])\n",
        "solver.Add(m1 >= desejo[1])\n",
        "solver.Add(m2 >= desejo[2])\n",
        "solver.Add(m3 >= desejo[3])\n",
        "\n",
        "solver.Add(m0 <= capacidade[0])\n",
        "solver.Add(m1 <= capacidade[1])\n",
        "solver.Add(m2 <= capacidade[2])\n",
        "solver.Add(m3 <= capacidade[3])\n",
        "\n",
        "\n",
        "# 3. Maximize the objective function\n",
        "solver.Minimize(custoMensal([m0, m1, m2, m3]))\n",
        "\n",
        "\n",
        "# Solve problem\n",
        "status = solver.Solve()\n",
        "\n",
        "# If an optimal solution has been found, print results\n",
        "if status == pywraplp.Solver.OPTIMAL:\n",
        "  print('================= Solution =================')\n",
        "  print(f'Solved in {solver.wall_time():.2f} milliseconds in {solver.iterations()} iterations')\n",
        "  print()\n",
        "  print(f'Custo mínimo = {solver.Objective().Value()} ')\n",
        "  print('Produções mensais:')\n",
        "  print(f' - 1º mês = {m0.solution_value()}')\n",
        "  print(f' - 2º mês = {m1.solution_value()}')\n",
        "  print(f' - 3º mês = {m2.solution_value()}')\n",
        "  print(f' - 4º mês = {m3.solution_value()}')\n",
        "  print( ' --------------------------')\n",
        "  print( ' Estoques:')\n",
        "  print(f' - estoque 1º mês = {estoqueMes(0, [m0.solution_value(), m1.solution_value(), m2.solution_value(), m3.solution_value()])}')\n",
        "  print(f' - estoque 2º mês = {estoqueMes(1, [m0.solution_value(), m1.solution_value(), m2.solution_value(), m3.solution_value()])}')\n",
        "  print(f' - estoque 3º mês = {estoqueMes(2, [m0.solution_value(), m1.solution_value(), m2.solution_value(), m3.solution_value()])}')\n",
        "  print(f' - estoque 4º mês = {estoqueMes(3, [m0.solution_value(), m1.solution_value(), m2.solution_value(), m3.solution_value()])}')\n",
        "\n",
        "else:\n",
        "  print('The solver could not find an optimal solution.')\n",
        "\n",
        "\n"
      ],
      "metadata": {
        "colab": {
          "base_uri": "https://localhost:8080/"
        },
        "id": "7riK_eHCU_x9",
        "outputId": "60fe4f14-e19e-4ec0-f966-8006acd13181"
      },
      "execution_count": null,
      "outputs": [
        {
          "output_type": "stream",
          "name": "stdout",
          "text": [
            "================= Solution =================\n",
            "Solved in 34.00 milliseconds in 0 iterations\n",
            "\n",
            "Custo mínimo = 83617.5 \n",
            "Produções mensais:\n",
            " - 1º mês = 410.0\n",
            " - 2º mês = 520.0\n",
            " - 3º mês = 400.0\n",
            " - 4º mês = 450.0\n",
            " --------------------------\n",
            " Estoques:\n",
            " - estoque 1º mês = 110.0\n",
            " - estoque 2º mês = 50.0\n",
            " - estoque 3º mês = 140.0\n",
            " - estoque 4º mês = 50.0\n"
          ]
        }
      ]
    },
    {
      "cell_type": "code",
      "source": [
        "#Aula 3, exercício 1\n",
        "#Problema das televisões fabricas em SP, João Pessoa e Maceió atendendo demandas do Rio de Janeiro, Salvador, Aracajú, Maceió e Recife\n",
        "\n",
        "import numpy as np\n",
        "from scipy.optimize import linprog\n",
        "obj = [1000, 2000, 3000, 3500, 4000,\n",
        "       4000, 2000, 1500, 1200, 1000,\n",
        "       6000, 4000, 3500, 3000, 2000] #These are coefficients of our objective function\n",
        "lhs = [[1, 1, 1, 1, 1,\n",
        "        0, 0, 0, 0, 0,\n",
        "        0, 0, 0, 0, 0 ],\n",
        "       [0, 0, 0, 0, 0,\n",
        "        1, 1, 1, 1, 1,\n",
        "        0, 0, 0, 0, 0 ],\n",
        "       [0, 0, 0, 0, 0,\n",
        "        0, 0, 0, 0, 0,\n",
        "        1, 1, 1, 1, 1 ]] #LHS Inequalities\n",
        "rhs = [10, 5, 6]\n",
        "lhs_eq = [[1, 0, 0, 0, 0,\n",
        "           1, 0, 0, 0, 0,\n",
        "           1, 0, 0, 0, 0],\n",
        "          [0, 1, 0, 0, 0,\n",
        "           0, 1, 0, 0, 0,\n",
        "           0, 1, 0, 0, 0],\n",
        "          [0, 0, 1, 0, 0,\n",
        "           0, 0, 1, 0, 0,\n",
        "           0, 0, 1, 0, 0],\n",
        "          [0, 0, 0, 1, 0,\n",
        "           0, 0, 0, 1, 0,\n",
        "           0, 0, 0, 1, 0],\n",
        "          [0, 0, 0, 0, 1,\n",
        "           0, 0, 0, 0, 1,\n",
        "           0, 0, 0, 0, 1]] #This will be required if there is an equality constraint not required here\n",
        "rhs_eq = [6, 5, 2, 1, 3] #This will be required if there is an equality constraint RHS value of the same\n",
        "bnd = [ (0,float('inf')),(0,float('inf')),(0,float('inf')),(0,float('inf')),(0,float('inf')),\n",
        "        (0,float('inf')),(0,float('inf')),(0,float('inf')),(0,float('inf')),(0,float('inf')),\n",
        "        (0,float('inf')),(0,float('inf')),(0,float('inf')),(0,float('inf')),(0,float('inf'))]\n",
        "        #This is boundary of our decision variables used because positive\n",
        "#optimization = linprog(c = obj,\n",
        "#                      A_ub = lhs,\n",
        "#                      b_ub = rhs,\n",
        "#                      bounds = bnd,\n",
        "#                      A_eq = lhs_eq,\n",
        "#                      b_eq = rhs_eq\n",
        "#                      method = 'simplex')\n",
        "\n",
        "#If we had equality constraints we would've used the A_eq and b_eq variables.\n",
        "\n",
        "optimization = linprog(c = obj, A_ub = lhs, b_ub = rhs, A_eq = lhs_eq, b_eq = rhs_eq, bounds = bnd, method = 'simplex')\n",
        "\n",
        "print(optimization)\n",
        "\n",
        "print(optimization.x)"
      ],
      "metadata": {
        "colab": {
          "base_uri": "https://localhost:8080/"
        },
        "id": "1EzF3W1cu8vD",
        "outputId": "04aa6af2-8bf3-4cb0-e004-70d740c4a80c"
      },
      "execution_count": null,
      "outputs": [
        {
          "output_type": "stream",
          "name": "stdout",
          "text": [
            " message: Optimization terminated successfully.\n",
            " success: True\n",
            "  status: 0\n",
            "     fun: 25200.0\n",
            "       x: [ 6.000e+00  4.000e+00 ...  0.000e+00  2.000e+00]\n",
            "     nit: 17\n",
            "[6. 4. 0. 0. 0. 0. 1. 2. 1. 1. 0. 0. 0. 0. 2.]\n"
          ]
        },
        {
          "output_type": "stream",
          "name": "stderr",
          "text": [
            "<ipython-input-3-04139aeec215>:49: DeprecationWarning: `method='simplex'` is deprecated and will be removed in SciPy 1.11.0. Please use one of the HiGHS solvers (e.g. `method='highs'`) in new code.\n",
            "  optimization = linprog(c = obj, A_ub = lhs, b_ub = rhs, A_eq = lhs_eq, b_eq = rhs_eq, bounds = bnd, method = 'simplex')\n"
          ]
        }
      ]
    },
    {
      "cell_type": "code",
      "source": [
        "#Problema das coordenadas da aula\n",
        "\n",
        "from scipy.optimize import minimize\n",
        "\n",
        "# Função objetivo\n",
        "def objetivo(x):\n",
        "  X = x[0]\n",
        "  Y = x[1]\n",
        "\n",
        "  return -( (1.5 - X)**2 + (3 - Y)**2 + (1.5 - X)**2 + (0.5 - Y)**2 + (-2.5 - X)**2 + (-0.5 - Y)**2 + (-2.5 - X)**2 + (2 - Y)**2 )\n",
        "\n",
        "# Condições iniciais\n",
        "x0 = [0, 0]\n",
        "\n",
        "# Limites\n",
        "bounds = [(-2.5, 1.5) for _ in range(2)]\n",
        "\n",
        "\n",
        "# Chamando o otimizador\n",
        "#resultado = minimize(objetivo, x0, bounds=bounds, method='SLSQP')\n",
        "resultado = minimize(objetivo, x0, bounds=bounds)\n",
        "\n",
        "# Extraindo o resultado\n",
        "ponto_X = resultado.x[0]\n",
        "ponto_Y = resultado.x[1]\n",
        "\n",
        "\n",
        "# Exibindo os resultados\n",
        "print(\"X:\", ponto_X)\n",
        "print(\"Y:\", ponto_Y)\n"
      ],
      "metadata": {
        "id": "6k2Y00x4289Z",
        "colab": {
          "base_uri": "https://localhost:8080/"
        },
        "outputId": "c4329aaf-ffd0-4c8f-9b28-5d6e0b34770d"
      },
      "execution_count": null,
      "outputs": [
        {
          "output_type": "stream",
          "name": "stdout",
          "text": [
            "X: 1.5\n",
            "Y: -2.5\n"
          ]
        }
      ]
    },
    {
      "cell_type": "code",
      "source": [
        "#Instalação do pacote PULP para os problemas de Programação Inteira\n",
        "!pip install pulp"
      ],
      "metadata": {
        "colab": {
          "base_uri": "https://localhost:8080/"
        },
        "id": "K4di39BaCpA5",
        "outputId": "f4335716-a7f3-4834-8b7e-f80ed058f048"
      },
      "execution_count": null,
      "outputs": [
        {
          "output_type": "stream",
          "name": "stdout",
          "text": [
            "Collecting pulp\n",
            "  Downloading PuLP-2.8.0-py3-none-any.whl.metadata (5.4 kB)\n",
            "Downloading PuLP-2.8.0-py3-none-any.whl (17.7 MB)\n",
            "\u001b[2K   \u001b[90m━━━━━━━━━━━━━━━━━━━━━━━━━━━━━━━━━━━━━━━━\u001b[0m \u001b[32m17.7/17.7 MB\u001b[0m \u001b[31m34.3 MB/s\u001b[0m eta \u001b[36m0:00:00\u001b[0m\n",
            "\u001b[?25hInstalling collected packages: pulp\n",
            "Successfully installed pulp-2.8.0\n",
            "\u001b[33mWARNING: Running pip as the 'root' user can result in broken permissions and conflicting behaviour with the system package manager. It is recommended to use a virtual environment instead: https://pip.pypa.io/warnings/venv\u001b[0m\u001b[33m\n",
            "\u001b[0m"
          ]
        }
      ]
    },
    {
      "cell_type": "code",
      "source": [
        "#Lista Exercícios Prova - N. 1.A\n",
        "#Problema de Alocação de Recursos: Uma pequena fábrica de móveis\n",
        "\n",
        "from pulp import LpMinimize, LpMaximize, LpProblem, LpVariable, lpSum, value\n",
        "\n",
        "# Criação do problema de minimização\n",
        "prob = LpProblem(name=\"Uma_pequena_fábrica_de_móveis\", sense=LpMaximize)\n",
        "\n",
        "# Criação das variáveis de decisão\n",
        "m1 = LpVariable(name=\"m1\", lowBound=0, cat=\"Integer\")\n",
        "m2 = LpVariable(name=\"m2\", lowBound=0, cat=\"Integer\")\n",
        "\n",
        "# Adição da função objetivo\n",
        "#prob += 2 * x + y\n",
        "prob += 110.00 * m1  +  65.00 * m2\n",
        "\n",
        "# Adição das restrições\n",
        "prob += 2 * m1 + m2 <= 7\n",
        "prob += 5 * m1 + 7 * m2 <= 30\n",
        "\n",
        "# Resolução do problema\n",
        "prob.solve()\n",
        "\n",
        "# Imprimir o resultado\n",
        "print(\"Status:\", prob.status)\n",
        "print(\"Valor de M1:\", value(m1))\n",
        "print(\"Valor de M2:\", value(m2))\n",
        "print(\"Valor MÁX(função objetivo):\", value(prob.objective))"
      ],
      "metadata": {
        "colab": {
          "base_uri": "https://localhost:8080/"
        },
        "id": "mfTrna-G47ig",
        "outputId": "79dfea3b-80f4-42e2-d71d-441b5e6f10b8"
      },
      "execution_count": null,
      "outputs": [
        {
          "output_type": "stream",
          "name": "stdout",
          "text": [
            "Status: 1\n",
            "Valor de M1: 3.0\n",
            "Valor de M2: 1.0\n",
            "Valor MÁX(função objetivo): 395.0\n"
          ]
        }
      ]
    },
    {
      "cell_type": "code",
      "source": [
        "#Lista Exercícios Prova - N. 1.B\n",
        "#Problema de Alocação de Recursos: Uma microempresa produz dois tipos de jogos\n",
        "\n",
        "from pulp import LpMinimize, LpMaximize, LpProblem, LpVariable, lpSum, value\n",
        "\n",
        "# Criação do problema de minimização\n",
        "prob = LpProblem(name=\"Microempresa_produz_dois_tipos_de_jogos\", sense=LpMaximize)\n",
        "\n",
        "# Criação das variáveis de decisão\n",
        "JgA = LpVariable(name=\"JgA\", lowBound=0, cat=\"Integer\")\n",
        "JgB = LpVariable(name=\"JgB\", lowBound=0, cat=\"Integer\")\n",
        "\n",
        "# Adição da função objetivo\n",
        "#prob += 2 * x + y\n",
        "prob += 30.00 * JgA + 40.00 * JgB\n",
        "\n",
        "# Adição das restrições\n",
        "prob += 3 * JgA + 5 * JgB <= 50\n",
        "\n",
        "# Resolução do problema\n",
        "prob.solve()\n",
        "\n",
        "# Imprimir o resultado\n",
        "print(\"Status:\", prob.status)\n",
        "print(\"Valor de JgA:\", value(JgA))\n",
        "print(\"Valor de JgB:\", value(JgB))\n",
        "print(\"Valor MÁX(função objetivo):\", value(prob.objective))"
      ],
      "metadata": {
        "colab": {
          "base_uri": "https://localhost:8080/"
        },
        "id": "Unmlnn5CJKul",
        "outputId": "fd3be31c-2b75-43cd-c500-44709150c9d2"
      },
      "execution_count": null,
      "outputs": [
        {
          "output_type": "stream",
          "name": "stdout",
          "text": [
            "Status: 1\n",
            "Valor de JgA: 15.0\n",
            "Valor de JgB: 1.0\n",
            "Valor MÁX(função objetivo): 490.0\n"
          ]
        }
      ]
    },
    {
      "cell_type": "code",
      "source": [
        "#Instalação do pacote PYOMO para os problemas de otimização não linear mista\n",
        "\n",
        "%%capture\n",
        "import sys\n",
        "import os\n",
        "\n",
        "!apt-get install -y -qq glpk-utils\n",
        "\n",
        "!pip install -q pyomo\n",
        "!apt-get install -y -qq coinor-cbc\n",
        "!apt-get install -y -qq coinor-clp\n",
        "!apt-get install -y -qq coinor-cgl\n",
        "!apt-get install -y -qq coinor-bonmin\n",
        "\n",
        "if 'google.colab' in sys.modules:\n",
        "    !pip install idaes-pse --pre\n",
        "    !idaes get-extensions --to ./bin\n",
        "    os.environ['PATH'] += ':bin'\n"
      ],
      "metadata": {
        "id": "7iSFUWPy-T5j"
      },
      "execution_count": null,
      "outputs": []
    },
    {
      "cell_type": "code",
      "source": [
        "#Lista Exercícios Prova - N. 1.C\n",
        "#Fregueses de uma padaria\n",
        "\n",
        "from pyomo.environ import *\n",
        "from pyomo.opt import SolverFactory\n",
        "\n",
        "# Criação do modelo\n",
        "model = ConcreteModel()\n",
        "\n",
        "# Variáveis de decisão\n",
        "model.x = Var(within=NonNegativeIntegers, bounds=(1e-20,None))\n",
        "model.y = Var(within=NonNegativeIntegers, bounds=(1e-20,None))\n",
        "\n",
        "# Função objetivo\n",
        "model.obj = Objective(expr = 20 * model.x ** 0.6 * model.y ** 0.3, sense=maximize)\n",
        "\n",
        "# Restrição\n",
        "model.const = Constraint(expr=800.0 * model.x + 200.0 * model.y <= 12000.0)\n",
        "\n",
        "# Resolver o modelo\n",
        "opt = SolverFactory('bonmin', executable='bonmin')\n",
        "results = opt.solve(model)\n",
        "\n",
        "# Imprimir resultados\n",
        "print(\"Solver Status:\", results.solver.status)\n",
        "print(\"Solver Termination Condition:\", results.solver.termination_condition)\n",
        "print(\"Valor ótimo de x:\", model.x())\n",
        "print(\"Valor ótimo de y:\", model.y())\n",
        "print(\"Valor ótimo da função objetivo:\", model.obj())"
      ],
      "metadata": {
        "colab": {
          "base_uri": "https://localhost:8080/"
        },
        "id": "qZC96Khrgy-_",
        "outputId": "1fb63cd2-8d9a-4717-cd3f-15d813ef76d5"
      },
      "execution_count": null,
      "outputs": [
        {
          "output_type": "stream",
          "name": "stdout",
          "text": [
            "Solver Status: ok\n",
            "Solver Termination Condition: optimal\n",
            "Valor ótimo de x: 10.0\n",
            "Valor ótimo de y: 20.0\n",
            "Valor ótimo da função objetivo: 195.58655370858565\n"
          ]
        }
      ]
    },
    {
      "cell_type": "code",
      "source": [
        "#Lista Exercícios Prova - N. 3\n",
        "#Um pintor faz quadros artesanais para vender numa feira que acontece todo dia à noite.\n",
        "\n",
        "from pulp import LpMinimize, LpMaximize, LpProblem, LpVariable, lpSum, value\n",
        "\n",
        "# Criação do problema de minimização\n",
        "prob = LpProblem(name=\"Pintor_quadros_artesanais\", sense=LpMaximize)\n",
        "\n",
        "# Criação das variáveis de decisão\n",
        "QuaGr = LpVariable(name=\"QuaGr\", lowBound=0, cat=\"Integer\")\n",
        "DesPq = LpVariable(name=\"DesPq\", lowBound=0, cat=\"Integer\")\n",
        "\n",
        "# Adição da função objetivo\n",
        "#prob += 2 * x + y\n",
        "prob += 5.00 * QuaGr + 3.00 * DesPq\n",
        "\n",
        "# Adição das restrições\n",
        "prob += QuaGr + 1.8 * DesPq <= 8\n",
        "prob += QuaGr <= 3\n",
        "prob += DesPq <= 4\n",
        "\n",
        "\n",
        "# Resolução do problema\n",
        "prob.solve()\n",
        "\n",
        "# Imprimir o resultado\n",
        "print(\"Status:\", prob.status)\n",
        "print(\"Valor de QuaGr:\", value(QuaGr))\n",
        "print(\"Valor de DesPq:\", value(DesPq))\n",
        "print(\"Valor MÁX(função objetivo):\", value(prob.objective))"
      ],
      "metadata": {
        "colab": {
          "base_uri": "https://localhost:8080/"
        },
        "id": "3KSzpYxiQK_q",
        "outputId": "7de07234-9690-4b76-be87-19577fe482c8"
      },
      "execution_count": null,
      "outputs": [
        {
          "output_type": "stream",
          "name": "stdout",
          "text": [
            "Status: 1\n",
            "Valor de QuaGr: 3.0\n",
            "Valor de DesPq: 2.0\n",
            "Valor MÁX(função objetivo): 21.0\n"
          ]
        }
      ]
    },
    {
      "cell_type": "code",
      "source": [
        "#Lista Exercícios Prova - N. 8\n",
        "#Problema das coordenadas\n",
        "\n",
        "from scipy.optimize import minimize\n",
        "\n",
        "# Função objetivo\n",
        "def objetivo(x):\n",
        "  X = x[0]\n",
        "  Y = x[1]\n",
        "\n",
        "  return ( ((15.0 - X)**2.0 + (8.0 - Y)**2.0 ) ** (0.5) +\n",
        "   ((10.0 - X)**2.0 + (15.0 - Y)**2.0 ) ** (0.5) +\n",
        "    ((14.0 - X)**2.0 + (1.0 - Y)**2.0 ) ** (0.5) +\n",
        "     ((10.0 - X)**2.0 + (2.0 - Y)**2.0 ) ** (0.5))\n",
        "\n",
        "# Condições iniciais\n",
        "x0 = [1.0, 1.0]\n",
        "\n",
        "# Limites\n",
        "# Limite inferior e superior estão indicados como extremos do X e Y das várias\n",
        "#    já que o ponto ótimo deve estar entre eles.\n",
        "bounds = [(1, 15) for _ in range(2)]\n",
        "\n",
        "# Restrições\n",
        "def constraint(x):\n",
        "  X = x[0]\n",
        "  Y = x[1]\n",
        "  return (X - 2*Y)\n",
        "\n",
        "# Restrição\n",
        "constraint_args = {'type': 'eq', 'fun': constraint}\n",
        "\n",
        "\n",
        "# Chamando o otimizador\n",
        "#resultado = minimize(objetivo, x0, bounds=bounds, method='SLSQP')\n",
        "resultado = minimize(objetivo, x0, bounds=bounds, constraints=constraint_args)\n",
        "\n",
        "# Extraindo o resultado\n",
        "ponto_X = resultado.x[0]\n",
        "ponto_Y = resultado.x[1]\n",
        "\n",
        "\n",
        "# Exibindo os resultados\n",
        "print(\"X:\", ponto_X)\n",
        "print(\"Y:\", ponto_Y)\n",
        "\n",
        "print(f\"X: {ponto_X:.4f}\")\n",
        "print(f\"Y: {ponto_Y:.4f}\")\n",
        "print(f\"Função Minimizada: {resultado.fun:.8f}\")\n",
        "\n",
        "print(\"-------------------------\")\n",
        "print(resultado)\n"
      ],
      "metadata": {
        "colab": {
          "base_uri": "https://localhost:8080/"
        },
        "id": "JPU-sL8MXvq0",
        "outputId": "b727a68d-9b56-49d1-fac5-179f6822ed82"
      },
      "execution_count": null,
      "outputs": [
        {
          "output_type": "stream",
          "name": "stdout",
          "text": [
            "X: 12.891971965454136\n",
            "Y: 6.445985982727068\n",
            "X: 12.8920\n",
            "Y: 6.4460\n",
            "Função Minimizada: 22.50993566\n",
            "-------------------------\n",
            " message: Optimization terminated successfully\n",
            " success: True\n",
            "  status: 0\n",
            "     fun: 22.509935659246043\n",
            "       x: [ 1.289e+01  6.446e+00]\n",
            "     nit: 7\n",
            "     jac: [-1.388e-01  2.775e-01]\n",
            "    nfev: 21\n",
            "    njev: 7\n"
          ]
        }
      ]
    }
  ]
}