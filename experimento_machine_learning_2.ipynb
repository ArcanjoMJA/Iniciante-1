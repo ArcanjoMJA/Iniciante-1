{
 "cells": [
  {
   "cell_type": "code",
   "execution_count": 9,
   "id": "d2730293",
   "metadata": {},
   "outputs": [
    {
     "name": "stdout",
     "output_type": "stream",
     "text": [
      "Requirement already satisfied: pandas in /Users/arcanjomiguel/opt/anaconda3/lib/python3.9/site-packages (1.3.4)\n",
      "Requirement already satisfied: python-dateutil>=2.7.3 in /Users/arcanjomiguel/opt/anaconda3/lib/python3.9/site-packages (from pandas) (2.8.2)\n",
      "Requirement already satisfied: pytz>=2017.3 in /Users/arcanjomiguel/opt/anaconda3/lib/python3.9/site-packages (from pandas) (2021.3)\n",
      "Requirement already satisfied: numpy>=1.17.3 in /Users/arcanjomiguel/opt/anaconda3/lib/python3.9/site-packages (from pandas) (1.20.3)\n",
      "Requirement already satisfied: six>=1.5 in /Users/arcanjomiguel/opt/anaconda3/lib/python3.9/site-packages (from python-dateutil>=2.7.3->pandas) (1.16.0)\n"
     ]
    }
   ],
   "source": [
    "\n",
    "!pip install pandas \n",
    "import pandas as pd\n",
    "from sklearn.tree import DecisionTreeClassifier\n",
    "#Criar uma biblioteca externa. Isso tem muita utilidade quando temos grandes quantidades de dados, entretanto fica registrado para se ter nocao\n",
    "import joblib"
   ]
  },
  {
   "cell_type": "code",
   "execution_count": 10,
   "id": "3b4a8620",
   "metadata": {},
   "outputs": [],
   "source": [
    "music=pd.read_excel('musica.xlsx')"
   ]
  },
  {
   "cell_type": "code",
   "execution_count": 13,
   "id": "3e7e6749",
   "metadata": {},
   "outputs": [
    {
     "data": {
      "text/plain": [
       "array(['Marrabenta'], dtype=object)"
      ]
     },
     "execution_count": 13,
     "metadata": {},
     "output_type": "execute_result"
    }
   ],
   "source": [
    "x=music.drop(columns=[\"Musica\"])\n",
    "y=music[\"Musica\"]\n",
    "modelo=DecisionTreeClassifier()\n",
    "modelo.fit(x,y)\n",
    "\n",
    "#\"joblib.dump(modelo, \"recoemdacao_de_musica\")\" damp para gurdar as recomendações\n",
    "joblib.load(\"recoemdacao_de_musica\")\n",
    "\n",
    "previsao=modelo.predict([[25,0]])\n",
    "previsao"
   ]
  },
  {
   "cell_type": "code",
   "execution_count": null,
   "id": "d1091714",
   "metadata": {},
   "outputs": [],
   "source": []
  }
 ],
 "metadata": {
  "kernelspec": {
   "display_name": "Python 3 (ipykernel)",
   "language": "python",
   "name": "python3"
  },
  "language_info": {
   "codemirror_mode": {
    "name": "ipython",
    "version": 3
   },
   "file_extension": ".py",
   "mimetype": "text/x-python",
   "name": "python",
   "nbconvert_exporter": "python",
   "pygments_lexer": "ipython3",
   "version": "3.9.7"
  }
 },
 "nbformat": 4,
 "nbformat_minor": 5
}
